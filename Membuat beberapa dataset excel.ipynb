{
 "cells": [
  {
   "cell_type": "code",
   "execution_count": 7,
   "id": "780f2de6",
   "metadata": {},
   "outputs": [
    {
     "name": "stdout",
     "output_type": "stream",
     "text": [
      "Dataset 1 telah disimpan dalam format Excel dengan nama file 5000_1.xlsx.\n",
      "Dataset 2 telah disimpan dalam format Excel dengan nama file 5000_2.xlsx.\n",
      "Dataset 3 telah disimpan dalam format Excel dengan nama file 5000_3.xlsx.\n",
      "Dataset 4 telah disimpan dalam format Excel dengan nama file 5000_4.xlsx.\n",
      "Dataset 5 telah disimpan dalam format Excel dengan nama file 5000_5.xlsx.\n",
      "Dataset 6 telah disimpan dalam format Excel dengan nama file 5000_6.xlsx.\n",
      "Dataset 7 telah disimpan dalam format Excel dengan nama file 5000_7.xlsx.\n",
      "Dataset 8 telah disimpan dalam format Excel dengan nama file 5000_8.xlsx.\n",
      "Dataset 9 telah disimpan dalam format Excel dengan nama file 5000_9.xlsx.\n",
      "Dataset 10 telah disimpan dalam format Excel dengan nama file 5000_10.xlsx.\n"
     ]
    }
   ],
   "source": [
    "import random\n",
    "import pandas as pd\n",
    "\n",
    "for i in range(1, 11):\n",
    "    dataset = []\n",
    "    for _ in range(5000):\n",
    "        random_number = round(random.uniform(0, 1000), 4)\n",
    "        dataset.append(random_number)\n",
    "\n",
    "    df = pd.DataFrame(dataset, columns=['Dataset'])\n",
    "    filename = f'5000_{i}.xlsx'\n",
    "    df.to_excel(filename, index=False)\n",
    "\n",
    "    print(f\"Dataset {i} telah disimpan dalam format Excel dengan nama file {filename}.\")\n"
   ]
  },
  {
   "cell_type": "code",
   "execution_count": null,
   "id": "dd625169",
   "metadata": {},
   "outputs": [],
   "source": []
  }
 ],
 "metadata": {
  "kernelspec": {
   "display_name": "Python 3 (ipykernel)",
   "language": "python",
   "name": "python3"
  },
  "language_info": {
   "codemirror_mode": {
    "name": "ipython",
    "version": 3
   },
   "file_extension": ".py",
   "mimetype": "text/x-python",
   "name": "python",
   "nbconvert_exporter": "python",
   "pygments_lexer": "ipython3",
   "version": "3.10.9"
  }
 },
 "nbformat": 4,
 "nbformat_minor": 5
}
